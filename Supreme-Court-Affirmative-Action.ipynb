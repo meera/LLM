{
 "cells": [
  {
   "cell_type": "markdown",
   "id": "91047d1e",
   "metadata": {},
   "source": [
    "## Install dependencies\n"
   ]
  },
  {
   "cell_type": "code",
   "execution_count": 1,
   "id": "b4754b21",
   "metadata": {},
   "outputs": [],
   "source": [
    "!pip install -r ./requirements.txt -q"
   ]
  },
  {
   "cell_type": "code",
   "execution_count": 9,
   "id": "ba19ee4b",
   "metadata": {},
   "outputs": [
    {
     "name": "stdout",
     "output_type": "stream",
     "text": [
      "Name: langchain\r\n",
      "Version: 0.0.203\r\n",
      "Summary: Building applications with LLMs through composability\r\n",
      "Home-page: https://www.github.com/hwchase17/langchain\r\n",
      "Author: \r\n",
      "Author-email: \r\n",
      "License: MIT\r\n",
      "Location: /Users/Meera/miniconda3/lib/python3.10/site-packages\r\n",
      "Requires: aiohttp, async-timeout, dataclasses-json, langchainplus-sdk, numexpr, numpy, openapi-schema-pydantic, pydantic, PyYAML, requests, SQLAlchemy, tenacity\r\n",
      "Required-by: \r\n"
     ]
    }
   ],
   "source": [
    "#!pip show langchain"
   ]
  },
  {
   "cell_type": "code",
   "execution_count": 2,
   "id": "842a1cb9",
   "metadata": {},
   "outputs": [
    {
     "data": {
      "text/plain": [
       "True"
      ]
     },
     "execution_count": 2,
     "metadata": {},
     "output_type": "execute_result"
    }
   ],
   "source": [
    "import os\n",
    "from dotenv import load_dotenv, find_dotenv\n",
    "load_dotenv(find_dotenv(), override=True)"
   ]
  },
  {
   "cell_type": "code",
   "execution_count": 3,
   "id": "31f88d00",
   "metadata": {},
   "outputs": [
    {
     "name": "stdout",
     "output_type": "stream",
     "text": [
      "Note: you may need to restart the kernel to use updated packages.\n"
     ]
    }
   ],
   "source": [
    "pip install pypdf -q"
   ]
  },
  {
   "cell_type": "markdown",
   "id": "bcf99625",
   "metadata": {},
   "source": [
    "## Load the PDF Document"
   ]
  },
  {
   "cell_type": "code",
   "execution_count": 4,
   "id": "0c4738bb",
   "metadata": {},
   "outputs": [],
   "source": [
    "def load_document(file):\n",
    "    from langchain.document_loaders import PyPDFLoader\n",
    "    print(f'Loading {file}')\n",
    "    loader = PyPDFLoader(file)\n",
    "    data = loader.load()\n",
    "    return data\n",
    "    "
   ]
  },
  {
   "cell_type": "markdown",
   "id": "d7716a0f",
   "metadata": {},
   "source": []
  },
  {
   "cell_type": "code",
   "execution_count": 5,
   "id": "f8ad5744",
   "metadata": {},
   "outputs": [
    {
     "name": "stdout",
     "output_type": "stream",
     "text": [
      "Loading data/Students-For-Fair-Admission-vs-Hardvard.pdf\n",
      "You have 237 pages in your data\n"
     ]
    }
   ],
   "source": [
    "data = load_document('data/Students-For-Fair-Admission-vs-Hardvard.pdf')\n",
    "#print( data[1].page_content)\n",
    "print(f'You have {len(data)} pages in your data' ) "
   ]
  },
  {
   "cell_type": "markdown",
   "id": "7799627e",
   "metadata": {},
   "source": [
    "##  Large PDF document into Chunks"
   ]
  },
  {
   "cell_type": "code",
   "execution_count": 30,
   "id": "8bf41aba",
   "metadata": {},
   "outputs": [],
   "source": [
    "def chunk_data(data, chunk_size=1256):\n",
    "    from langchain.text_splitter import RecursiveCharacterTextSplitter\n",
    "    text_splitter = RecursiveCharacterTextSplitter(chunk_size=chunk_size, chunk_overlap=10)\n",
    "    chunks = text_splitter.split_documents(data)\n",
    "    return chunks\n",
    "    \n",
    "    "
   ]
  },
  {
   "cell_type": "code",
   "execution_count": 31,
   "id": "3e35f1b3",
   "metadata": {},
   "outputs": [
    {
     "name": "stdout",
     "output_type": "stream",
     "text": [
      "You have 492 chunks\n",
      "page_content='1 (Slip Opinion) OCTOBER TERM, 2022 \\nSyllabus \\nNOTE: Where it is feasible, a syllabus (headnote) will be released, as is \\nbeing done in connection with this case, at the time the opinion is issued. \\nThe syllabus constitutes no part of the opinion of the Court but has been prepared by the Reporter of Decisions for the convenience of the reader. See United States  v. Detroit Timber & Lumber Co.,  200 U. S. 321, 337. \\nSUPREME COURT OF THE UNITED STATES \\nSyllabus \\nSTUDENTS FOR FAIR ADMISSIONS, INC. v. \\nPRESIDENT AND FELLOWS OF HARVARD COLLEGE \\nCERTIORARI TO THE UNITED STATES COURT OF APPEALS FOR \\nTHE FIRST CIRCUIT \\nNo. 20–1199. Argued October 31, 2022—Decided June 29, 2023* \\nHarvard College and the University of North Carolina (UNC) are two of\\nthe oldest institutions of higher le arning in the United States.  Every\\nyear, tens of thousands of students apply to each school; many fewer \\nare admitted.  Both Harvard and UNC employ a highly selective ad-missions process to make their decisions.  Admission to each school can \\ndepend on a student’s grades, recommendation letters, or extracurric-\\nular involvement.  It can also depe nd on their race.  The question pre -' metadata={'source': 'data/Students-For-Fair-Admission-vs-Hardvard.pdf', 'page': 0}\n"
     ]
    }
   ],
   "source": [
    "chunks = chunk_data( data)\n",
    "print(f'You have {len(chunks)} chunks')\n",
    "print(chunks[0])"
   ]
  },
  {
   "cell_type": "code",
   "execution_count": 32,
   "id": "7670b835",
   "metadata": {},
   "outputs": [
    {
     "name": "stdout",
     "output_type": "stream",
     "text": [
      "page_content='sented is whether the admissions systems used by Harvard College \\nand UNC are lawful under the Equal Protection Clause of the Four-\\nteenth Amendment. \\nAt Harvard, each application for admission is initially screened by a\\n“first reader,” who assigns a numerical  score in each of six categories: \\nacademic, extracurricular, athletic, school support, personal, and over-\\nall.  For the “overall” category—a composite of the five other ratings— \\na first reader can and does consider the applicant’s race.  Harvard’s admissions subcommittees then review  all applications from a partic-\\nular geographic area.  These regi onal subcommittees make recommen-\\ndations to the full admissions committ ee, and they take an applicant’s \\nrace into account.  When the 40-member full admissions committee begins its deliberations, it discusses the relative breakdown of appli-cants by race.  The goal of the process, according to Harvard’s director \\nof admissions, is ensuring there is no “dramatic drop-off” in minority \\nadmissions from the prior class.  An applicant receiving a majority of \\n—————— \\n*Together with No. 21–707, Students for Fair Admissions, Inc.  v. Uni-\\nversity of North Carolina et al. , on certiorari before judgment to the' metadata={'source': 'data/Students-For-Fair-Admission-vs-Hardvard.pdf', 'page': 0}\n"
     ]
    }
   ],
   "source": [
    "print(chunks[1])"
   ]
  },
  {
   "cell_type": "markdown",
   "id": "2b7ffb97",
   "metadata": {},
   "source": [
    "##  Inserting the embedding into Pinecode "
   ]
  },
  {
   "cell_type": "code",
   "execution_count": null,
   "id": "6e12155d",
   "metadata": {},
   "outputs": [],
   "source": [
    "# Todo\n",
    "def print_embedding_cost(texts):\n",
    "    import tiktoken\n",
    "    enc = tiktoken.encoding_for_model('text-embedding-ada-002')\n",
    "    total_tokens = sum()"
   ]
  },
  {
   "cell_type": "code",
   "execution_count": 33,
   "id": "0b7e7eae",
   "metadata": {},
   "outputs": [],
   "source": [
    "from langchain.embeddings import OpenAIEmbeddings\n",
    "embeddings = OpenAIEmbeddings()"
   ]
  },
  {
   "cell_type": "code",
   "execution_count": 34,
   "id": "ef0a819f",
   "metadata": {},
   "outputs": [],
   "source": [
    "import os\n",
    "import pinecone\n",
    "from langchain.vectorstores import Pinecone\n",
    "\n",
    "pinecone.init( api_key= os.environ.get('PINECONE_API_KEY'), environment=os.environ.get('PINECONE_ENV'))"
   ]
  },
  {
   "cell_type": "code",
   "execution_count": 35,
   "id": "5db04d79",
   "metadata": {},
   "outputs": [],
   "source": [
    "# Create index\n",
    "index_name = \"supreme-court-affirmative-action\"\n",
    "pinecone.create_index( index_name, dimension=1536, metric='cosine')"
   ]
  },
  {
   "cell_type": "code",
   "execution_count": null,
   "id": "3cecd982",
   "metadata": {},
   "outputs": [],
   "source": []
  },
  {
   "cell_type": "code",
   "execution_count": 39,
   "id": "e0a852c2",
   "metadata": {},
   "outputs": [],
   "source": [
    "vector_store = Pinecone.from_documents(chunks, embeddings, index_name= index_name)"
   ]
  },
  {
   "cell_type": "code",
   "execution_count": 40,
   "id": "66f903aa",
   "metadata": {},
   "outputs": [
    {
     "name": "stdout",
     "output_type": "stream",
     "text": [
      "[Document(page_content='of the case in No. 20–1199, and issues this opinion with respect to the \\ncase in No. 21–707.', metadata={'page': 208.0, 'source': 'data/Students-For-Fair-Admission-vs-Hardvard.pdf'}), Document(page_content='of the case in No. 20–1199 and joins this opinion only as it applies to the \\ncase in No. 21–707.', metadata={'page': 139.0, 'source': 'data/Students-For-Fair-Admission-vs-Hardvard.pdf'}), Document(page_content='recited in a dissenting opinion in a different case decided almost a decade ago. Post,  at 29–30, n. 25 (opinion of S\\nOTOMAYOR , J.); see also post,  at \\n18–21 (opinion of S OTOMAYOR , J.) (further venturing beyond the trial rec -\\nords to discuss data about employ ment, income, wealth, home owner -\\nship, and healthcare).', metadata={'page': 119.0, 'source': 'data/Students-For-Fair-Admission-vs-Hardvard.pdf'}), Document(page_content='at 418 (opinion of Stevens, J.).', metadata={'page': 130.0, 'source': 'data/Students-For-Fair-Admission-vs-Hardvard.pdf'})]\n"
     ]
    }
   ],
   "source": [
    "query = 'What case was discussed in this report?'\n",
    "result = vector_store.similarity_search(query)\n",
    "print(result)"
   ]
  },
  {
   "cell_type": "code",
   "execution_count": 26,
   "id": "333f354a",
   "metadata": {},
   "outputs": [
    {
     "name": "stdout",
     "output_type": "stream",
     "text": [
      "cision of the case in No. 20–1199.\n",
      "--------------------------------------------------\n",
      "sion of the case in No. 20–1199.\n",
      "--------------------------------------------------\n",
      "32, n. 27 (opinion of S\n",
      "OTOMAYOR , J.); cf. post, at 17 \n",
      "(JACKSON , J., dissenting).  But the question in these cases\n",
      "--------------------------------------------------\n",
      "being done in connection with this case, at the time the opinion is issued.\n",
      "--------------------------------------------------\n"
     ]
    }
   ],
   "source": [
    "for r in result: \n",
    "    print(r.page_content)\n",
    "    print('-' * 50)"
   ]
  },
  {
   "cell_type": "markdown",
   "id": "12d67564",
   "metadata": {},
   "source": [
    "## Ask Questions"
   ]
  },
  {
   "cell_type": "code",
   "execution_count": 41,
   "id": "61d5348b",
   "metadata": {},
   "outputs": [
    {
     "name": "stdout",
     "output_type": "stream",
     "text": [
      "vectorstore=<langchain.vectorstores.pinecone.Pinecone object at 0x7fca263850c0> search_type='similarity' search_kwargs={'k': 13}\n"
     ]
    }
   ],
   "source": [
    "from langchain.chains import RetrievalQA\n",
    "from langchain.chat_models import ChatOpenAI\n",
    "\n",
    "llm = ChatOpenAI( model='gpt-3.5-turbo', temperature=1)\n",
    "retriever = vector_store.as_retriever( search_type='similarity', search_kwargs={'k': 13})\n",
    "print(retriever)\n",
    "\n",
    "chain = RetrievalQA.from_chain_type(llm=llm, chain_type=\"stuff\", retriever=retriever)"
   ]
  },
  {
   "cell_type": "code",
   "execution_count": 42,
   "id": "c76d73a6",
   "metadata": {},
   "outputs": [
    {
     "name": "stdout",
     "output_type": "stream",
     "text": [
      "The report discusses two cases: No. 20-1199, involving Students for Fair Admissions, Inc. v. President and Fellows of Harvard College, and No. 21-707, involving Students for Fair Admissions, Inc. v. University of North Carolina, et al.\n"
     ]
    }
   ],
   "source": [
    "query = \"What case was discussed in the report\"\n",
    "answer= chain.run(query)\n",
    "print(answer)"
   ]
  },
  {
   "cell_type": "code",
   "execution_count": 43,
   "id": "b358f703",
   "metadata": {},
   "outputs": [
    {
     "name": "stdout",
     "output_type": "stream",
     "text": [
      "The plaintiff in the case is Students for Fair Admissions, Inc. (SFFA).\n"
     ]
    }
   ],
   "source": [
    "query = \"Who is plaintiff in the case\"\n",
    "answer = chain.run(query)\n",
    "print(answer)"
   ]
  },
  {
   "cell_type": "code",
   "execution_count": 21,
   "id": "c1947385",
   "metadata": {},
   "outputs": [
    {
     "name": "stdout",
     "output_type": "stream",
     "text": [
      "The major takeaway from the report is that race-based programs and admissions policies may not effectively address the underlying issues of racial disparities and may even perpetuate academic underperformance. These programs may benefit the well-off members of minority races more than those who are truly struggling. The report highlights the persistence of intergenerational race-based gaps in health, wealth, and well-being. It also mentions that admissions have increased for all racial minorities, including Asian Americans. However, the report points out that Harvard's race-conscious admissions policy results in fewer Asian Americans being admitted.\n"
     ]
    }
   ],
   "source": [
    "query = \"What is major takeaway from the report\"\n",
    "answer = chain.run(query)\n",
    "print(answer)"
   ]
  },
  {
   "cell_type": "code",
   "execution_count": 44,
   "id": "6f3700cb",
   "metadata": {},
   "outputs": [
    {
     "name": "stdout",
     "output_type": "stream",
     "text": [
      "The justices on the bench in this case were Justice Sotomayor, Justice Kagan, Justice Jackson, Justice Gorsuch, Justice Breyer, Justice Kavanaugh, and Chief Justice Roberts.\n"
     ]
    }
   ],
   "source": [
    "query = \"Who were justice on the bench in this case?\"\n",
    "answer = chain.run(query)\n",
    "print(answer)"
   ]
  },
  {
   "cell_type": "code",
   "execution_count": 45,
   "id": "41d55d75",
   "metadata": {},
   "outputs": [
    {
     "name": "stdout",
     "output_type": "stream",
     "text": [
      "The provided context does not explicitly state who voted for or against specific measures or amendments. Therefore, I don't have information about specific voting records for these historical events.\n"
     ]
    }
   ],
   "source": [
    "query = \"Who voted for and who voted against?\"\n",
    "answer = chain.run(query)\n",
    "print(answer)"
   ]
  },
  {
   "cell_type": "code",
   "execution_count": 46,
   "id": "d8010277",
   "metadata": {},
   "outputs": [
    {
     "name": "stdout",
     "output_type": "stream",
     "text": [
      "The given context does not mention who wrote the majority opinion.\n"
     ]
    }
   ],
   "source": [
    "query = \"Who wrote the majority opinion?\"\n",
    "answer = chain.run(query)\n",
    "print(answer)"
   ]
  },
  {
   "cell_type": "code",
   "execution_count": 47,
   "id": "4a52aa72",
   "metadata": {},
   "outputs": [
    {
     "name": "stdout",
     "output_type": "stream",
     "text": [
      "Justice Sotomayor's dissenting opinion argues against the Court's decision to limit the use of race-based affirmative action in higher education. She emphasizes the importance of racial equality and diversity, stating that progress toward equality cannot be permanently halted. She criticizes the Court for disregarding the ongoing racial inequality in society and argues that diversity in education is a fundamental value. She also addresses the consequences of a lack of diversity in leadership positions and the importance of representation. She disagrees with the majority's interpretation of previous precedents and states that race-conscious admissions can be justified to promote the educational benefits of diversity. Overall, Justice Sotomayor's dissenting opinion supports the continued use of race-based affirmative action in higher education.\n"
     ]
    }
   ],
   "source": [
    "query = \"What was justice Sotomayor's dissenting opinion?\"\n",
    "answer = chain.run(query)\n",
    "print(answer)"
   ]
  },
  {
   "cell_type": "code",
   "execution_count": 48,
   "id": "c8fa3a69",
   "metadata": {},
   "outputs": [
    {
     "name": "stdout",
     "output_type": "stream",
     "text": [
      "Here are some quotable quotes from the ruling:\n",
      "\n",
      "1. \"Our Constitution is color-blind, and neither knows nor tolerates classes among citizens.\" - Justice Harlan (dissenting in Plessy)\n",
      "2. \"Both programs lack sufficiently focused and measurable objectives warranting the use of race, unavoidably employ race in a negative manner, involve racial stereotyping, and lack meaningful endpoints.\" - Opinion of the Court\n",
      "3. \"A system of government that visibly lacks a path to leadership open to every race cannot withstand scrutiny 'in the eyes of the citizenry.'\" - Justice Sotomayor (dissenting)\n",
      "4. \"Under a faithful application of the Court’s settled legal framework, Harvard and UNC’s admissions programs are constitutional and comply with Title VI of the Civil Rights Act of 1964.\" - Justice Sotomayor (dissenting)\n",
      "5. \"The Equal Protection Clause of the Fourteenth Amendment enshrines a guarantee of racial equality. The Court long ago concluded that this guarantee can\n"
     ]
    }
   ],
   "source": [
    "query = \"Can you list quotable quotes in the ruling?\"\n",
    "answer = chain.run(query)\n",
    "print(answer)"
   ]
  },
  {
   "cell_type": "code",
   "execution_count": 49,
   "id": "6add43d4",
   "metadata": {},
   "outputs": [
    {
     "name": "stdout",
     "output_type": "stream",
     "text": [
      "The Supreme Court ruling does not propose a specific admission process. The ruling is focused on whether the admissions systems used by Harvard College and the University of North Carolina are lawful under the Equal Protection Clause of the Fourteenth Amendment. The Court concludes that the use of race in the admissions processes of these universities is not permissible. The ruling does not provide an alternative or proposed admission process.\n"
     ]
    }
   ],
   "source": [
    "query = \"What is proposed admission process in the supreme court ruling?\"\n",
    "answer = chain.run(query)\n",
    "print(answer)"
   ]
  },
  {
   "cell_type": "code",
   "execution_count": null,
   "id": "4cf09d6d",
   "metadata": {},
   "outputs": [],
   "source": []
  }
 ],
 "metadata": {
  "kernelspec": {
   "display_name": "Python 3 (ipykernel)",
   "language": "python",
   "name": "python3"
  },
  "language_info": {
   "codemirror_mode": {
    "name": "ipython",
    "version": 3
   },
   "file_extension": ".py",
   "mimetype": "text/x-python",
   "name": "python",
   "nbconvert_exporter": "python",
   "pygments_lexer": "ipython3",
   "version": "3.10.10"
  }
 },
 "nbformat": 4,
 "nbformat_minor": 5
}
