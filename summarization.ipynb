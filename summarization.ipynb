{
 "cells": [
  {
   "cell_type": "code",
   "execution_count": 27,
   "id": "64290a60",
   "metadata": {},
   "outputs": [],
   "source": [
    "# This is Derived from \n",
    "# https://github.com/gkamradt/langchain-tutorials/blob/main/data_generation/5%20Levels%20Of%20Summarization%20-%20Novice%20To%20Expert.ipynb\n",
    "\n",
    "# Workaround OpenAI's Token Limit\n",
    "# https://www.youtube.com/watch?v=f9_BWhCI4Zo&t=418s"
   ]
  },
  {
   "cell_type": "code",
   "execution_count": null,
   "id": "cef657a0",
   "metadata": {},
   "outputs": [],
   "source": [
    "!pip install langchain\n",
    "!pip install python-dotenv\n"
   ]
  },
  {
   "cell_type": "code",
   "execution_count": 7,
   "id": "c8190ee0",
   "metadata": {},
   "outputs": [
    {
     "name": "stdout",
     "output_type": "stream",
     "text": [
      "The dotenv extension is already loaded. To reload it, use:\n",
      "  %reload_ext dotenv\n"
     ]
    }
   ],
   "source": [
    "\n",
    "%load_ext dotenv\n",
    "%dotenv\n"
   ]
  },
  {
   "cell_type": "code",
   "execution_count": 1,
   "id": "b633b949",
   "metadata": {},
   "outputs": [],
   "source": []
  },
  {
   "cell_type": "code",
   "execution_count": 35,
   "id": "5b160937",
   "metadata": {},
   "outputs": [
    {
     "name": "stdout",
     "output_type": "stream",
     "text": [
      "env: OPENAI_KEY=''\n"
     ]
    }
   ],
   "source": [
    "%env OPENAI_KEY=''"
   ]
  },
  {
   "cell_type": "code",
   "execution_count": 24,
   "id": "f7546bf3",
   "metadata": {},
   "outputs": [],
   "source": [
    "import os\n",
    "from dotenv import load_dotenv\n",
    "from langchain import OpenAI\n",
    "from langchain import PromptTemplate\n",
    "from langchain.chains.summarize import load_summarize_chain\n",
    "from langchain.text_splitter import RecursiveCharacterTextSplitter\n"
   ]
  },
  {
   "cell_type": "code",
   "execution_count": null,
   "id": "71d2fac3",
   "metadata": {},
   "outputs": [],
   "source": [
    "import os \n",
    "open_api_key = os.environ[\"OPENAI_KEY\"]\n",
    "print(open_api_key)\n",
    "\n"
   ]
  },
  {
   "cell_type": "code",
   "execution_count": 22,
   "id": "8f6d433c",
   "metadata": {},
   "outputs": [],
   "source": [
    "llm = OpenAI( temperature=0, openai_api_key= '')"
   ]
  },
  {
   "cell_type": "code",
   "execution_count": 13,
   "id": "a977bc30",
   "metadata": {},
   "outputs": [
    {
     "name": "stdout",
     "output_type": "stream",
     "text": [
      "121\n"
     ]
    }
   ],
   "source": [
    "# Level 0 try\n",
    "prompt = \"\"\"\n",
    "Please provide a summary of the following text\n",
    "\n",
    "TEXT:\n",
    "Philosophy (from Greek: φιλοσοφία, philosophia, 'love of wisdom') \\\n",
    "is the systematized study of general and fundamental questions, \\\n",
    "such as those about existence, reason, knowledge, values, mind, and language. \\\n",
    "Some sources claim the term was coined by Pythagoras (c. 570 – c. 495 BCE), \\\n",
    "although this theory is disputed by some. Philosophical methods include questioning, \\\n",
    "critical discussion, rational argument, and systematic presentation.\n",
    "\"\"\"\n",
    "num_tokens = llm.get_num_tokens(prompt)\n",
    "print( num_tokens)"
   ]
  },
  {
   "cell_type": "code",
   "execution_count": 23,
   "id": "7a61afdb",
   "metadata": {},
   "outputs": [
    {
     "name": "stdout",
     "output_type": "stream",
     "text": [
      "\n",
      "Philosophy is a systematized study of general and fundamental questions about existence, reason, knowledge, values, mind, and language. It is believed to have been coined by Pythagoras, and its methods include questioning, critical discussion, rational argument, and systematic presentation.\n"
     ]
    }
   ],
   "source": [
    "output = llm(prompt)\n",
    "print(output)"
   ]
  },
  {
   "cell_type": "code",
   "execution_count": 25,
   "id": "d320b529",
   "metadata": {},
   "outputs": [
    {
     "name": "stdout",
     "output_type": "stream",
     "text": [
      "support for pivot comes from service now today it seems every business is influenced by the uncertainty in the world it seeps into every discussion it forces tough choices for what to do next should you drive efficiency or should you drive growth but what if instead of choosing you could just say ye\n"
     ]
    }
   ],
   "source": [
    "#This is Level 1 - Read large data\n",
    "with open('data/PivotPod_412.txt', 'r') as file: \n",
    "    file_contents = file.read()\n",
    "    print(file_contents[:300])"
   ]
  },
  {
   "cell_type": "code",
   "execution_count": 26,
   "id": "9507c68f",
   "metadata": {},
   "outputs": [
    {
     "data": {
      "text/plain": [
       "14557"
      ]
     },
     "execution_count": 26,
     "metadata": {},
     "output_type": "execute_result"
    }
   ],
   "source": [
    "llm.get_num_tokens(file_contents)"
   ]
  },
  {
   "cell_type": "code",
   "execution_count": 29,
   "id": "92619607",
   "metadata": {},
   "outputs": [],
   "source": [
    "# 1 token = 4 characters\n",
    "# 3000 tokens = 4 *  3000 \n",
    "text_splitter = RecursiveCharacterTextSplitter( separators=[\"\\n\\n\", \"\\n\", \" \"], chunk_size=12000, chunk_overlap=500)\n",
    "docs = text_splitter.create_documents( [ file_contents])"
   ]
  },
  {
   "cell_type": "code",
   "execution_count": 32,
   "id": "fd1d1c71",
   "metadata": {},
   "outputs": [
    {
     "name": "stdout",
     "output_type": "stream",
     "text": [
      " num docs 7\n",
      " num tokens  2438\n"
     ]
    }
   ],
   "source": [
    "num_docs = len(docs)\n",
    "num_tokens_first_doc = llm.get_num_tokens(docs[0].page_content)\n",
    "print(\" num docs\" , num_docs)\n",
    "print(\" num tokens \", num_tokens_first_doc)\n"
   ]
  },
  {
   "cell_type": "code",
   "execution_count": 34,
   "id": "35a6a401",
   "metadata": {},
   "outputs": [
    {
     "name": "stdout",
     "output_type": "stream",
     "text": [
      " George Soros is handing control of his $25 billion empire to his son Alex, while Twitter CEO Linda Yakarino and Elon Musk's recent tweet of a woman's boobs have made her job more difficult. Donald Trump has been federally indicted for the first time in history, and Tesla has recently struck agreements with GM and Ford to access Tesla's 17,000 supercharger plugs. Jennifer Parker and Jennifer Pahlka have both been involved in improving government services, while Brooklyn and Linens provides luxury bedding and the podcast Into the Mix explores global refugee policy. Fred Ryan is stepping down as publisher and chief executive of the Washington Post, and Lionel Messi chose to move to Miami instead of taking money from Saudi Arabia. This episode of Pivot from New York Magazine featured a discussion about the great state of Florida and ZipRecruiter and Clean My Mac X were featured.\n"
     ]
    }
   ],
   "source": [
    "summary_chain = load_summarize_chain( llm=llm, chain_type='map_reduce')\n",
    "output = summary_chain.run(docs)\n",
    "print(output)"
   ]
  },
  {
   "cell_type": "code",
   "execution_count": null,
   "id": "43a0ce9a",
   "metadata": {},
   "outputs": [],
   "source": []
  }
 ],
 "metadata": {
  "kernelspec": {
   "display_name": "Python 3 (ipykernel)",
   "language": "python",
   "name": "python3"
  },
  "language_info": {
   "codemirror_mode": {
    "name": "ipython",
    "version": 3
   },
   "file_extension": ".py",
   "mimetype": "text/x-python",
   "name": "python",
   "nbconvert_exporter": "python",
   "pygments_lexer": "ipython3",
   "version": "3.10.10"
  }
 },
 "nbformat": 4,
 "nbformat_minor": 5
}
