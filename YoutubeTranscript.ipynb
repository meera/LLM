{
 "cells": [
  {
   "cell_type": "code",
   "execution_count": 13,
   "id": "9768eb65",
   "metadata": {},
   "outputs": [],
   "source": [
    "# This is youtube transcript\n",
    "# https://github.com/gkamradt/langchain-tutorials/blob/main/loaders/YouTube%20Loader.ipynb"
   ]
  },
  {
   "cell_type": "code",
   "execution_count": 2,
   "id": "acef5918",
   "metadata": {},
   "outputs": [
    {
     "name": "stdout",
     "output_type": "stream",
     "text": [
      "Collecting youtube-transcript-api\n",
      "  Downloading youtube_transcript_api-0.6.1-py3-none-any.whl (24 kB)\n",
      "Requirement already satisfied: requests in /Users/Meera/miniconda3/lib/python3.10/site-packages (from youtube-transcript-api) (2.28.2)\n",
      "Requirement already satisfied: urllib3<1.27,>=1.21.1 in /Users/Meera/miniconda3/lib/python3.10/site-packages (from requests->youtube-transcript-api) (1.26.14)\n",
      "Requirement already satisfied: certifi>=2017.4.17 in /Users/Meera/miniconda3/lib/python3.10/site-packages (from requests->youtube-transcript-api) (2022.12.7)\n",
      "Requirement already satisfied: charset-normalizer<4,>=2 in /Users/Meera/miniconda3/lib/python3.10/site-packages (from requests->youtube-transcript-api) (3.0.1)\n",
      "Requirement already satisfied: idna<4,>=2.5 in /Users/Meera/miniconda3/lib/python3.10/site-packages (from requests->youtube-transcript-api) (3.4)\n",
      "Installing collected packages: youtube-transcript-api\n",
      "Successfully installed youtube-transcript-api-0.6.1\n",
      "Collecting pytube\n",
      "  Downloading pytube-15.0.0-py3-none-any.whl (57 kB)\n",
      "\u001b[2K     \u001b[90m━━━━━━━━━━━━━━━━━━━━━━━━━━━━━━━━━━━━━━━━\u001b[0m \u001b[32m57.6/57.6 kB\u001b[0m \u001b[31m1.2 MB/s\u001b[0m eta \u001b[36m0:00:00\u001b[0ma \u001b[36m0:00:01\u001b[0m\n",
      "\u001b[?25hInstalling collected packages: pytube\n",
      "Successfully installed pytube-15.0.0\n"
     ]
    }
   ],
   "source": [
    "!pip install youtube-transcript-api\n",
    "!pip install pytube"
   ]
  },
  {
   "cell_type": "code",
   "execution_count": 4,
   "id": "6d9ea2c5",
   "metadata": {},
   "outputs": [],
   "source": [
    "from langchain.document_loaders import YoutubeLoader\n",
    "from langchain.llms import OpenAI\n",
    "from langchain.chains.summarize import load_summarize_chain\n"
   ]
  },
  {
   "cell_type": "code",
   "execution_count": 7,
   "id": "19b009e8",
   "metadata": {},
   "outputs": [
    {
     "name": "stdout",
     "output_type": "stream",
     "text": [
      "[Document(page_content=\"this is Catherine and this is Ryan this is Catherine's house it's my house it's a bit of a work in progress especially her kitchen and Catherine wants to renovate it so Lowe's and Ryan are going to help her we sure are okay here we go destination renovation where real customers and real Lowe's red vest Associates work together to renovate a room come on in Ryan there's a lot we need your help with in Catherine's kitchen sure thing here to help some fun facts about Ryan he's a pit bull dad and played bass in a punk rock band yep it's true and he knows a lot about kitchens he's worked in the kitchen appliance section at Lowe's for three years so he's the perfect person to help Catherine out Catherine what do you want to improve in your kitchen gosh where do I even start the fridge leaks the oven doesn't have a hood the light bulbs are just hanging from some wire it'd be really nice to have a table in the kitchen the thing is she wants to save money so she's going to try to do some of it herself does Catherine know what she wants her kitchen to look like well Catherine has spent hours Gathering ideas for her kitchen and she has a lot of thoughts I wanted to feel warm gold accents I want it to be timeless but Catherine is extremely indecisive Catherine's also a single mom this is Reese friends you just burp this is my son Reese he's a big boy so a lot of Catherine's decisions are influenced by being a mom with a sticky accident-prone toddler but there are just so many options lucky for Catherine her sister has an eye for design Kinsey will be Catherine's design Visionary behind this space okay so I totally think you need at least new floors we'll start with that maybe some like luxury vinyl floors some backsplash would be good like pictures we literally have a cording down new appliances I mean yeah that would be awesome I think if we even moved around things in the kitchen you could squeeze a table some chairs in there get some artwork yeah a place to sit yeah okay so now that Catherine has the vision she needs to figure out how to actually do it yeah I can't help with that back to Ryan okay first let's talk flooring you mentioned wanting tiles we have a lot of vinyl tiles that are affordable and easy to install we can even hook you up with professional installers to come install it for you would you like to try that out yeah that's perfect that's exactly what I wanted um hello white floors do you like the new floor Papa okay next thing to knock out appliances and Catherine wants gold accents everywhere got anything for her Ryan the GE Cafe line is a Timeless and elegant look that will never go out of style it has all the different types of hardware and color choices it's a professional grade performance but it's also really easy to use the stove even has built-in Wi-Fi and a no preheat airfry oh gosh these are lovely I love them yes great we'll deliver and hook it up for you my old oven here she is sweet sweet oven check this out grilled cheese sandal for the boy ain't she beautiful what else would you like to do to your kitchen I really want to add some tile backsplash and I really really want to do it myself great let me just pop in here for a second Ryan Catherine has never done this before let's start with the basics lowes.com has some great resources and which can help you find which materials the need and how much you'll need all right so here's a majority of the tools Catherine will need to DIY her tile backsplash and here's a look at most of the materials she'll need for the project got it Catherine I got it Catherine decided on a matte porcelain marble look wall tile to brighten up her kitchen and because her sister told her to this is your moment to shine Ryan to know how much tile you'll need you need to know the square footage of the area to figure out your square footage you'll need to multiply your height times your width Lowe's has a great tool online where you can calculate how many tiles you need probably safe to buy a few extra right okay Catherine time to get started you sure you want to do this you should have a friend help you this is Anthony I'm Anthony we got this we got it all right take it away Ryan first things first is you have to prep your space you need to turn off the power and remove all your electrical covers you can use painters tape and craft paper to protect all the areas you don't want to get dirty you want to sand it down and make sure it's smooth and make sure it's primed all your prep work is done now you can plan your tile layout snap engage ready so first things first you're going to mix your thin set and then you're gonna apply just a small amount to the area you're working on all right tell me about thinset work in small at a time as the set can dry really quickly so now that you have your thinset on the wall and you have your thinset on the back of the tile you can now place your tile on the wall and all you have to do is push it right into the mortar what do you think yeah one thing you want to think about is how thick you want your grout lines so with the tile that you selected you can either go typically 1 8 of an inch or you can stack them edge to edge if your tiles are moving or looking uneven you can use wedges to ensure they stay in place perfect needs to cut some tiles so they fit around the window so she bought a wet tile saw Ryan I have questions like why is this all wet the water helps cool down the tile so that way it doesn't break or overheat push the tile with an even slow pressure right across until it's fully tucked there you go that's great see that little sharp edge right there that's where you come in with your tile Nippers and nip it right off okay I think that's it for now let's let that dry for 24 hours let it be known that Catherine is exhausted yeah but lucky for her the adhesive has to set for a full day so she can take a nice long break [Music] all right it's time to grout let's do it here we go watch your fingers this step is pretty quick first things first we need to mix the grout foreign to be the consistency of toothpaste or peanut butter perfect apply the grout diagonally using a float and pressing the grout in between the joints Ryan how long do we have until this sets up you gotta work quick as it sets up in about 30 minutes we got some time wait about 10 minutes and then wipe off all your excess grout with a sponge rinse your sponge often and make sure you wring it out a haze may form but that can easily be cleaned with a haze remover and you need to allow the grout to dry for 24 hours so now that Catherine Catherine miles fun stuff Catherine's painting the room a warm white to make the cabinets and tile a little more inviting there's a slight hint of blush in this white she's going to replace all the hardware too got it foreign she also found a bunch of art from lowes.com and some cool light fixtures don't worry she hired an electrician for that because well she doesn't know how to do that item one I love it set this in the corner all right Catherine is officially done just looks so good talk about a glow up of a kitchen and this is nothing's kitchen these are now Catherine's kitchen floors this is now Catherine's stove and fridge and dishwasher and sink and these are Catherine's lights good job it's a beautiful end here we did so much better I didn't even have light fixtures before what oh you just had the ones hanging down yeah just a little light bulb hanging out of the ceiling look how beautiful it looks now and now this is where Catherine and Reese have breakfast every morning just kidding but at least now Catherine could eat at a kitchen table and that's what matters right Reese all right thank you thank you I hope you and Reese enjoy your new kitchen me and all the other Lowe's red vets Associates are always happy and eager to help thank you for watching everything you saw on this makeover is from Lowe's and it's linked in the description below make sure to subscribe for more makeover content leave a comment below to let us know what you think about this kitchen transformation [Music]\", metadata={'source': 'WtmcmQWUVok', 'title': 'DIY Timeless Kitchen Makeover | Lowe’s Destination Renovation', 'description': 'Unknown', 'view_count': 11940, 'thumbnail_url': 'https://i.ytimg.com/vi/WtmcmQWUVok/hqdefault.jpg?sqp=-oaymwEXCJADEOABSFryq4qpAwkIARUAAIhCGAE=&rs=AOn4CLB43ibKrDtva2QQ7l-g89mjpL83Lw', 'publish_date': '2023-06-11 00:00:00', 'length': 590, 'author': \"Lowe's Home Improvement\"})]\n"
     ]
    }
   ],
   "source": [
    "loader = YoutubeLoader.from_youtube_url(\"https://www.youtube.com/watch?v=WtmcmQWUVok\", add_video_info=True)\n",
    "result = loader.load()\n",
    "print( result)\n"
   ]
  },
  {
   "cell_type": "code",
   "execution_count": 12,
   "id": "e76c11ce",
   "metadata": {},
   "outputs": [
    {
     "name": "stdout",
     "output_type": "stream",
     "text": [
      "<class 'list'>\n",
      "this is Catherine and this is Ryan this is Catherine's house it's my house it's a bit of a work in progress especially her kitchen and Catherine wants to renovate it so Lowe's and Ryan are going to help her we sure are okay here we go destination renovation where real customers and real Lowe's red vest Associates work together to renovate a room come on in Ryan there's a lot we need your help with in Catherine's kitchen sure thing here to help some fun facts about Ryan he's a pit bull dad and played bass in a punk rock band yep it's true and he knows a lot about kitchens he's worked in the kitchen appliance section at Lowe's for three years so he's the perfect person to help Catherine out Catherine what do you want to improve in your kitchen gosh where do I even start the fridge leaks the oven doesn't have a hood the light bulbs are just hanging from some wire it'd be really nice to have a table in the kitchen the thing is she wants to save money so she's going to try to do some of it herself does Catherine know what she wants her kitchen to look like well Catherine has spent hours Gathering ideas for her kitchen and she has a lot of thoughts I wanted to feel warm gold accents I want it to be timeless but Catherine is extremely indecisive Catherine's also a single mom this is Reese friends you just burp this is my son Reese he's a big boy so a lot of Catherine's decisions are influenced by being a mom with a sticky accident-prone toddler but there are just so many options lucky for Catherine her sister has an eye for design Kinsey will be Catherine's design Visionary behind this space okay so I totally think you need at least new floors we'll start with that maybe some like luxury vinyl floors some backsplash would be good like pictures we literally have a cording down new appliances I mean yeah that would be awesome I think if we even moved around things in the kitchen you could squeeze a table some chairs in there get some artwork yeah a place to sit yeah okay so now that Catherine has the vision she needs to figure out how to actually do it yeah I can't help with that back to Ryan okay first let's talk flooring you mentioned wanting tiles we have a lot of vinyl tiles that are affordable and easy to install we can even hook you up with professional installers to come install it for you would you like to try that out yeah that's perfect that's exactly what I wanted um hello white floors do you like the new floor Papa okay next thing to knock out appliances and Catherine wants gold accents everywhere got anything for her Ryan the GE Cafe line is a Timeless and elegant look that will never go out of style it has all the different types of hardware and color choices it's a professional grade performance but it's also really easy to use the stove even has built-in Wi-Fi and a no preheat airfry oh gosh these are lovely I love them yes great we'll deliver and hook it up for you my old oven here she is sweet sweet oven check this out grilled cheese sandal for the boy ain't she beautiful what else would you like to do to your kitchen I really want to add some tile backsplash and I really really want to do it myself great let me just pop in here for a second Ryan Catherine has never done this before let's start with the basics lowes.com has some great resources and which can help you find which materials the need and how much you'll need all right so here's a majority of the tools Catherine will need to DIY her tile backsplash and here's a look at most of the materials she'll need for the project got it Catherine I got it Catherine decided on a matte porcelain marble look wall tile to brighten up her kitchen and because her sister told her to this is your moment to shine Ryan to know how much tile you'll need you need to know the square footage of the area to figure out your square footage you'll need to multiply your height times your width Lowe's has a great tool online where you can calculate how many tiles you need probably safe to buy a few extra right okay Catherine time to get started you sure you want to do this you should have a friend help you this is Anthony I'm Anthony we got this we got it all right take it away Ryan first things first is you have to prep your space you need to turn off the power and remove all your electrical covers you can use painters tape and craft paper to protect all the areas you don't want to get dirty you want to sand it down and make sure it's smooth and make sure it's primed all your prep work is done now you can plan your tile layout snap engage ready so first things first you're going to mix your thin set and then you're gonna apply just a small amount to the area you're working on all right tell me about thinset work in small at a time as the set can dry really quickly so now that you have your thinset on the wall and you have your thinset on the back of the tile you can now place your tile on the wall and all you have to do is push it right into the mortar what do you think yeah one thing you want to think about is how thick you want your grout lines so with the tile that you selected you can either go typically 1 8 of an inch or you can stack them edge to edge if your tiles are moving or looking uneven you can use wedges to ensure they stay in place perfect needs to cut some tiles so they fit around the window so she bought a wet tile saw Ryan I have questions like why is this all wet the water helps cool down the tile so that way it doesn't break or overheat push the tile with an even slow pressure right across until it's fully tucked there you go that's great see that little sharp edge right there that's where you come in with your tile Nippers and nip it right off okay I think that's it for now let's let that dry for 24 hours let it be known that Catherine is exhausted yeah but lucky for her the adhesive has to set for a full day so she can take a nice long break [Music] all right it's time to grout let's do it here we go watch your fingers this step is pretty quick first things first we need to mix the grout foreign to be the consistency of toothpaste or peanut butter perfect apply the grout diagonally using a float and pressing the grout in between the joints Ryan how long do we have until this sets up you gotta work quick as it sets up in about 30 minutes we got some time wait about 10 minutes and then wipe off all your excess grout with a sponge rinse your sponge often and make sure you wring it out a haze may form but that can easily be cleaned with a haze remover and you need to allow the grout to dry for 24 hours so now that Catherine Catherine miles fun stuff Catherine's painting the room a warm white to make the cabinets and tile a little more inviting there's a slight hint of blush in this white she's going to replace all the hardware too got it foreign she also found a bunch of art from lowes.com and some cool light fixtures don't worry she hired an electrician for that because well she doesn't know how to do that item one I love it set this in the corner all right Catherine is officially done just looks so good talk about a glow up of a kitchen and this is nothing's kitchen these are now Catherine's kitchen floors this is now Catherine's stove and fridge and dishwasher and sink and these are Catherine's lights good job it's a beautiful end here we did so much better I didn't even have light fixtures before what oh you just had the ones hanging down yeah just a little light bulb hanging out of the ceiling look how beautiful it looks now and now this is where Catherine and Reese have breakfast every morning just kidding but at least now Catherine could eat at a kitchen table and that's what matters right Reese all right thank you thank you I hope you and Reese enjoy your new kitchen me and all the other Lowe's red vets Associates are always happy and eager to help thank you for watching everything you saw on this makeover is from Lowe's and it's linked in the description below make sure to subscribe for more makeover content leave a comment below to let us know what you think about this kitchen transformation [Music]\n"
     ]
    }
   ],
   "source": [
    "print( type(result))\n",
    "print( result[0].page_content)"
   ]
  },
  {
   "cell_type": "code",
   "execution_count": null,
   "id": "988459f1",
   "metadata": {},
   "outputs": [],
   "source": []
  }
 ],
 "metadata": {
  "kernelspec": {
   "display_name": "Python 3 (ipykernel)",
   "language": "python",
   "name": "python3"
  },
  "language_info": {
   "codemirror_mode": {
    "name": "ipython",
    "version": 3
   },
   "file_extension": ".py",
   "mimetype": "text/x-python",
   "name": "python",
   "nbconvert_exporter": "python",
   "pygments_lexer": "ipython3",
   "version": "3.10.10"
  }
 },
 "nbformat": 4,
 "nbformat_minor": 5
}
