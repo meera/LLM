{
 "cells": [
  {
   "cell_type": "code",
   "execution_count": null,
   "id": "05e71755-e26e-407b-8ef8-f0010351544d",
   "metadata": {},
   "outputs": [],
   "source": [
    "!pip uninstall -y transformers && pip install git+https://github.com/huggingface/transformers"
   ]
  },
  {
   "cell_type": "code",
   "execution_count": null,
   "id": "cf2a5a3d-852c-4d2b-9c13-de3d2918ebaa",
   "metadata": {},
   "outputs": [],
   "source": [
    "!pip install flash-attn --no-build-isolation"
   ]
  },
  {
   "cell_type": "code",
   "execution_count": 3,
   "id": "b46461aa-5805-4a07-b9f3-ec6751439b31",
   "metadata": {},
   "outputs": [
    {
     "name": "stdout",
     "output_type": "stream",
     "text": [
      "Found existing installation: ninja 1.11.1.1\n",
      "Uninstalling ninja-1.11.1.1:\n",
      "  Successfully uninstalled ninja-1.11.1.1\n",
      "Collecting ninja\n",
      "  Using cached ninja-1.11.1.1-py2.py3-none-manylinux1_x86_64.manylinux_2_5_x86_64.whl (307 kB)\n",
      "Installing collected packages: ninja\n",
      "Successfully installed ninja-1.11.1.1\n"
     ]
    }
   ],
   "source": [
    "!pip uninstall -y ninja && pip install ninja"
   ]
  },
  {
   "cell_type": "code",
   "execution_count": 2,
   "id": "b48db709-7638-468d-8c1f-ecb886a7183b",
   "metadata": {},
   "outputs": [
    {
     "name": "stdout",
     "output_type": "stream",
     "text": [
      "numpy                                    1.26.4\n",
      "Note: you may need to restart the kernel to use updated packages.\n"
     ]
    }
   ],
   "source": [
    "pip list | grep numpy"
   ]
  },
  {
   "cell_type": "code",
   "execution_count": 4,
   "id": "fafd0771-11fd-46fa-9491-fee0c3fc1abc",
   "metadata": {},
   "outputs": [
    {
     "name": "stdout",
     "output_type": "stream",
     "text": [
      "Requirement already satisfied: packaging in ./.venv/lib/python3.10/site-packages (23.2)\n",
      "Note: you may need to restart the kernel to use updated packages.\n"
     ]
    }
   ],
   "source": [
    "!pip install packaging"
   ]
  },
  {
   "cell_type": "code",
   "execution_count": 5,
   "id": "fcbcc464-f478-43e7-9903-b73d730630ab",
   "metadata": {},
   "outputs": [
    {
     "name": "stdout",
     "output_type": "stream",
     "text": [
      "Requirement already satisfied: wheel in ./.venv/lib/python3.10/site-packages (0.44.0)\n"
     ]
    }
   ],
   "source": [
    "!pip install wheel"
   ]
  },
  {
   "cell_type": "code",
   "execution_count": 2,
   "id": "da454eb4-bb52-42f1-b72b-ffb3d301fc66",
   "metadata": {},
   "outputs": [
    {
     "data": {
      "application/vnd.jupyter.widget-view+json": {
       "model_id": "c935424006e54ea38260341529585905",
       "version_major": 2,
       "version_minor": 0
      },
      "text/plain": [
       "Loading checkpoint shards:   0%|          | 0/2 [00:00<?, ?it/s]"
      ]
     },
     "metadata": {},
     "output_type": "display_data"
    },
    {
     "name": "stderr",
     "output_type": "stream",
     "text": [
      "/home/meera/asearch/scripts/highlights/.venv/lib/python3.10/site-packages/transformers/models/auto/image_processing_auto.py:514: FutureWarning: The image_processor_class argument is deprecated and will be removed in v4.42. Please use `slow_image_processor_class`, or `fast_image_processor_class` instead\n",
      "  warnings.warn(\n"
     ]
    }
   ],
   "source": [
    "from PIL import Image \n",
    "import requests \n",
    "from transformers import AutoModelForCausalLM \n",
    "from transformers import AutoProcessor \n",
    "\n",
    "model_id = \"microsoft/Phi-3-vision-128k-instruct\" \n",
    "\n",
    "model = AutoModelForCausalLM.from_pretrained(model_id, device_map=\"cuda\", trust_remote_code=True, torch_dtype=\"auto\", _attn_implementation='flash_attention_2')\n",
    "processor = AutoProcessor.from_pretrained(model_id, trust_remote_code=True)\n",
    "\n",
    "def process_image_with_phi3(image_path, prompt_content, model_id=\"microsoft/Phi-3-vision-128k-instruct\"):\n",
    "    # Load model and processor\n",
    " \n",
    "    # Prepare messages and image\n",
    "    messages = [\n",
    "        {\"role\": \"user\", \"content\": f\"<|image_1|>\\n{prompt_content}\"},\n",
    "    ]\n",
    "    image = Image.open(image_path)\n",
    "\n",
    "    # Process input\n",
    "    prompt = processor.tokenizer.apply_chat_template(messages, tokenize=False, add_generation_prompt=True)\n",
    "    inputs = processor(prompt, [image], return_tensors=\"pt\").to(\"cuda:0\")\n",
    "\n",
    "    # Generate response\n",
    "    generation_args = {\n",
    "        \"max_new_tokens\": 500,\n",
    "        \"temperature\": 0.0,\n",
    "        \"do_sample\": False,\n",
    "    }\n",
    "    generate_ids = model.generate(**inputs, eos_token_id=processor.tokenizer.eos_token_id, **generation_args)\n",
    "\n",
    "    # Process and return response\n",
    "    generate_ids = generate_ids[:, inputs['input_ids'].shape[1]:]\n",
    "    response = processor.batch_decode(generate_ids, skip_special_tokens=True, clean_up_tokenization_spaces=False)[0]\n",
    "    return response\n",
    "\n"
   ]
  },
  {
   "cell_type": "code",
   "execution_count": 19,
   "id": "e0c93f49-171b-42a6-a5a8-763af01cd489",
   "metadata": {},
   "outputs": [
    {
     "name": "stdout",
     "output_type": "stream",
     "text": [
      "The name of the product is 'FEATHER FALLS' and the color code is '6515'.\n"
     ]
    }
   ],
   "source": [
    "print( process_image_with_phi3(\"Images/paint-can.jpg\", \"Extract name and color code\"))"
   ]
  },
  {
   "cell_type": "code",
   "execution_count": 20,
   "id": "13ac0f3d-a117-47f3-9962-eac625e92097",
   "metadata": {},
   "outputs": [
    {
     "name": "stdout",
     "output_type": "stream",
     "text": [
      "The image shows an interior space with a large mural on the wall, a chandelier, and wooden pews. The specific location cannot be determined from the image alone without additional context or information.\n"
     ]
    }
   ],
   "source": [
    "print( process_image_with_phi3(\"Images/santa-barbara.jpg\", \"Where is this picture taken ?\"))"
   ]
  },
  {
   "cell_type": "code",
   "execution_count": 17,
   "id": "a17e1ae9-f39e-4426-8e8d-3facfc059360",
   "metadata": {},
   "outputs": [
    {
     "name": "stdout",
     "output_type": "stream",
     "text": [
      "The average heart rate (Avg HR) is 129 and the peak heart rate (Peak HR) is 167.\n"
     ]
    }
   ],
   "source": [
    "print( process_image_with_phi3(\"Images/rower_027.png\", \"Find Average and Peak heart rate\"))"
   ]
  },
  {
   "cell_type": "code",
   "execution_count": 21,
   "id": "1ddbc0ff-0e16-4917-9c5b-0519a5baaf14",
   "metadata": {},
   "outputs": [
    {
     "name": "stdout",
     "output_type": "stream",
     "text": [
      "The workout date is Sunday, March 24.\n"
     ]
    }
   ],
   "source": [
    "print( process_image_with_phi3(\"Images/rower_027.png\", \"Find Workout Date\"))\n"
   ]
  },
  {
   "cell_type": "code",
   "execution_count": 22,
   "id": "64c460c0-874e-4251-8561-3ac6fa03a907",
   "metadata": {},
   "outputs": [
    {
     "name": "stdout",
     "output_type": "stream",
     "text": [
      "The image captures the iconic Leaning Tower of Pisa, a freestanding bell tower of the cathedral of the Italian city of Pisa. The tower is white with a black base and is tilted to one side. It is surrounded by a green lawn with people scattered around, enjoying the view. The sky is clear and blue, and there are trees and a building in the background. The perspective of the image is from a low angle, looking up at the tower, emphasizing its height and lean. The identifier 'sa_1760' doesn't provide additional information about the landmark.\n"
     ]
    }
   ],
   "source": [
    "print( process_image_with_phi3(\"Images/Leaning-Tower-of-Pisa-Italy.webp\", \"Describe this Image\"))"
   ]
  },
  {
   "cell_type": "code",
   "execution_count": 23,
   "id": "f156f07b-4d68-49d4-bfab-59554d7ca408",
   "metadata": {},
   "outputs": [
    {
     "name": "stdout",
     "output_type": "stream",
     "text": [
      "The image shows a silver plate with a variety of Indian dishes. There are two bowls of rice, one with white rice and the other with yellow rice, both garnished with green herbs. There are also two small bowls of soup, one with a pinkish hue and the other with a red hue, both with green herbs on top. A large piece of bread is placed on the plate, and there is a round, golden-brown dish that appears to be a type of flatbread or pattie, garnished with a lime wedge. The plate is on a dark surface, and there is a piece of yellow paper to the left of the plate.\n"
     ]
    }
   ],
   "source": [
    "print( process_image_with_phi3(\"Images/thali.jpg\", \"Describe this Image\"))"
   ]
  },
  {
   "cell_type": "code",
   "execution_count": 24,
   "id": "eb4c43a9-79a4-447b-b901-77c0a1fff751",
   "metadata": {},
   "outputs": [
    {
     "name": "stdout",
     "output_type": "stream",
     "text": [
      "Yes, the meal appears to be vegetarian as it includes rice, lentils, and what looks like a vegetable curry, all of which are plant-based ingredients.\n"
     ]
    }
   ],
   "source": [
    "print( process_image_with_phi3(\"Images/thali.jpg\", \"Is this vegeterian meal?\"))"
   ]
  },
  {
   "cell_type": "code",
   "execution_count": 25,
   "id": "2b913be3-42f0-42bc-a91d-c4cbfcdb191e",
   "metadata": {},
   "outputs": [
    {
     "name": "stdout",
     "output_type": "stream",
     "text": [
      "There is no clear indication of what is wrong in the image. The tire appears to be in good condition without visible damage or flat spots.\n"
     ]
    }
   ],
   "source": [
    "print( process_image_with_phi3(\"Images/tirewithnail.jpg\", \"What is wrong?\"))"
   ]
  },
  {
   "cell_type": "code",
   "execution_count": 28,
   "id": "d76e760e-3d0c-466b-9730-7a1f414e9d3e",
   "metadata": {},
   "outputs": [
    {
     "name": "stdout",
     "output_type": "stream",
     "text": [
      "This is a photograph of a building with a clock tower, likely a historical or cultural site, surrounded by palm trees and a clear blue sky.\n"
     ]
    }
   ],
   "source": [
    "print( process_image_with_phi3(\"Images/santa_barbara_courthouse.jpg\", \"Where is this?\"))"
   ]
  },
  {
   "cell_type": "code",
   "execution_count": 31,
   "id": "69130218-ef05-475f-a484-bc29afdeb679",
   "metadata": {},
   "outputs": [
    {
     "name": "stdout",
     "output_type": "stream",
     "text": [
      "The event details are for a hiking experience on June 29th at Rancho San Antonio Open Space Preserve, Wildcat Loop Trail. The meet-up is at Deer Hollow Farm Hay Barn Picnic Tables at 8:45 am, and participants are instructed to take off their tents at 9 am. There is also an option to sign up with the studio for more details.\n"
     ]
    }
   ],
   "source": [
    "print( process_image_with_phi3(\"Images/orangefitness_hike.jpg\", \"Extract event details. When and where\"))"
   ]
  },
  {
   "cell_type": "code",
   "execution_count": 33,
   "id": "7a27ac22-11fb-45e9-ad1d-d4e01afbccb3",
   "metadata": {},
   "outputs": [
    {
     "name": "stdout",
     "output_type": "stream",
     "text": [
      "The event details are not explicitly stated in the image, but it appears to be a religious or cultural ceremony, possibly related to the Hindu festival of Diwali, given the context of the text and the traditional attire of the figure in the image. The exact date and location are not provided.\n"
     ]
    }
   ],
   "source": [
    "# Marathi Input\n",
    "print( process_image_with_phi3(\"Images/patrika.png\", \"Extract event details. When and where\"))"
   ]
  },
  {
   "cell_type": "code",
   "execution_count": 34,
   "id": "9c20a4a1-ceed-496f-8fa7-a4d5b653eb5d",
   "metadata": {},
   "outputs": [
    {
     "name": "stdout",
     "output_type": "stream",
     "text": [
      "The image displays a menu board for \"COLD DRINKS\" with various matcha latte options. Below is the markdown table conversion of the menu:\n",
      "\n",
      "```markdown\n",
      "| Drink Name                | Description                                                                 |\n",
      "|---------------------------|-----------------------------------------------------------------------------|\n",
      "| HONEY MATCHA LATTE        | [ Premium Matcha, natural honey, and whole milk ]                            |\n",
      "| HONEY MATCHA TEA          | [ Premium Matcha, natural honey, and purified water ]                        |\n",
      "| HONEY HOJICHA LATTE       | [ Premium HOJICHA, natural honey, and whole milk ]                           |\n",
      "| LYCHEE MATCHA TEA         | [ Premium Matcha, real lychee, and cane sugar ]                              |\n",
      "| RED DRAGON REFRESHER      | [ Real Red Dragon and Yuzu, and cane sugar ]                                 |\n",
      "| HIBISCUS YUZU TEA W BASIL | [ Hibiscus Flower Tea, real Yuzu, Basil seed, and cane sugar ]               |\n",
      "| STRAWBERRY MATCHA LATTE   | [ Premium Matcha, real strawberry, whole milk, and cane sugar ]              |\n",
      "| CREME BRULEE MATCHA SWIRL | [ House crème brulee combined with our premium matcha shake ]              |\n",
      "| CHEESE MOUSSE MATCHA TEA  | [ Premium Matcha, pink Himalayan salt, cheese, and fresh cream ]             |\n",
      "| KURO HOJICHA LATTE       | [ Premium HOJICHA, black sesame, fresh cream, and whole milk ]               |\n",
      "| OKINAWA HOJICHA LATTE    | [ Premium HOJICHA, Japanese black sugar, and whole milk ]                    |\n",
      "| YUZU MATCHA TEA           | [ Premium Matcha, real Yuzu, and cane sugar ]                                |\n",
      "| STRAWBERRY YUZU MATCHA TEA| [ Premium Matcha, real\n"
     ]
    }
   ],
   "source": [
    "# Markdown\n",
    "print( process_image_with_phi3(\"Images/matcha_menu.jpg\", \"Extract menu in Markdown Format\"))"
   ]
  },
  {
   "cell_type": "code",
   "execution_count": null,
   "id": "e6c1f5e4-21c1-4289-85ef-407abce5f410",
   "metadata": {},
   "outputs": [],
   "source": []
  }
 ],
 "metadata": {
  "kernelspec": {
   "display_name": "Python 3 (ipykernel)",
   "language": "python",
   "name": "python3"
  },
  "language_info": {
   "codemirror_mode": {
    "name": "ipython",
    "version": 3
   },
   "file_extension": ".py",
   "mimetype": "text/x-python",
   "name": "python",
   "nbconvert_exporter": "python",
   "pygments_lexer": "ipython3",
   "version": "3.10.12"
  }
 },
 "nbformat": 4,
 "nbformat_minor": 5
}
