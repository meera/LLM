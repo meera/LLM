{
 "cells": [
  {
   "cell_type": "code",
   "execution_count": 27,
   "id": "64290a60",
   "metadata": {},
   "outputs": [],
   "source": [
    "# This is Derived from \n",
    "# https://github.com/gkamradt/langchain-tutorials/blob/main/data_generation/5%20Levels%20Of%20Summarization%20-%20Novice%20To%20Expert.ipynb\n",
    "\n",
    "# Workaround OpenAI's Token Limit\n",
    "# https://www.youtube.com/watch?v=f9_BWhCI4Zo&t=418s"
   ]
  },
  {
   "cell_type": "code",
   "execution_count": 2,
   "id": "cef657a0",
   "metadata": {},
   "outputs": [
    {
     "name": "stdout",
     "output_type": "stream",
     "text": [
      "Requirement already satisfied: langchain in /Users/Meera/miniconda3/lib/python3.10/site-packages (0.0.203)\n",
      "Requirement already satisfied: SQLAlchemy<3,>=1.4 in /Users/Meera/miniconda3/lib/python3.10/site-packages (from langchain) (2.0.16)\n",
      "Requirement already satisfied: async-timeout<5.0.0,>=4.0.0 in /Users/Meera/miniconda3/lib/python3.10/site-packages (from langchain) (4.0.2)\n",
      "Requirement already satisfied: numexpr<3.0.0,>=2.8.4 in /Users/Meera/miniconda3/lib/python3.10/site-packages (from langchain) (2.8.4)\n",
      "Requirement already satisfied: pydantic<2,>=1 in /Users/Meera/miniconda3/lib/python3.10/site-packages (from langchain) (1.10.9)\n",
      "Requirement already satisfied: requests<3,>=2 in /Users/Meera/miniconda3/lib/python3.10/site-packages (from langchain) (2.28.2)\n",
      "Requirement already satisfied: dataclasses-json<0.6.0,>=0.5.7 in /Users/Meera/miniconda3/lib/python3.10/site-packages (from langchain) (0.5.8)\n",
      "Requirement already satisfied: tenacity<9.0.0,>=8.1.0 in /Users/Meera/miniconda3/lib/python3.10/site-packages (from langchain) (8.2.2)\n",
      "Requirement already satisfied: openapi-schema-pydantic<2.0,>=1.2 in /Users/Meera/miniconda3/lib/python3.10/site-packages (from langchain) (1.2.4)\n",
      "Requirement already satisfied: aiohttp<4.0.0,>=3.8.3 in /Users/Meera/miniconda3/lib/python3.10/site-packages (from langchain) (3.8.4)\n",
      "Requirement already satisfied: langchainplus-sdk>=0.0.9 in /Users/Meera/miniconda3/lib/python3.10/site-packages (from langchain) (0.0.10)\n",
      "Requirement already satisfied: numpy<2,>=1 in /Users/Meera/miniconda3/lib/python3.10/site-packages (from langchain) (1.24.3)\n",
      "Requirement already satisfied: PyYAML>=5.4.1 in /Users/Meera/miniconda3/lib/python3.10/site-packages (from langchain) (6.0)\n",
      "Requirement already satisfied: multidict<7.0,>=4.5 in /Users/Meera/miniconda3/lib/python3.10/site-packages (from aiohttp<4.0.0,>=3.8.3->langchain) (6.0.4)\n",
      "Requirement already satisfied: yarl<2.0,>=1.0 in /Users/Meera/miniconda3/lib/python3.10/site-packages (from aiohttp<4.0.0,>=3.8.3->langchain) (1.8.2)\n",
      "Requirement already satisfied: attrs>=17.3.0 in /Users/Meera/miniconda3/lib/python3.10/site-packages (from aiohttp<4.0.0,>=3.8.3->langchain) (22.2.0)\n",
      "Requirement already satisfied: frozenlist>=1.1.1 in /Users/Meera/miniconda3/lib/python3.10/site-packages (from aiohttp<4.0.0,>=3.8.3->langchain) (1.3.3)\n",
      "Requirement already satisfied: charset-normalizer<4.0,>=2.0 in /Users/Meera/miniconda3/lib/python3.10/site-packages (from aiohttp<4.0.0,>=3.8.3->langchain) (3.0.1)\n",
      "Requirement already satisfied: aiosignal>=1.1.2 in /Users/Meera/miniconda3/lib/python3.10/site-packages (from aiohttp<4.0.0,>=3.8.3->langchain) (1.3.1)\n",
      "Requirement already satisfied: marshmallow<4.0.0,>=3.3.0 in /Users/Meera/miniconda3/lib/python3.10/site-packages (from dataclasses-json<0.6.0,>=0.5.7->langchain) (3.19.0)\n",
      "Requirement already satisfied: marshmallow-enum<2.0.0,>=1.5.1 in /Users/Meera/miniconda3/lib/python3.10/site-packages (from dataclasses-json<0.6.0,>=0.5.7->langchain) (1.5.1)\n",
      "Requirement already satisfied: typing-inspect>=0.4.0 in /Users/Meera/miniconda3/lib/python3.10/site-packages (from dataclasses-json<0.6.0,>=0.5.7->langchain) (0.9.0)\n",
      "Requirement already satisfied: typing-extensions>=4.2.0 in /Users/Meera/miniconda3/lib/python3.10/site-packages (from pydantic<2,>=1->langchain) (4.6.3)\n",
      "Requirement already satisfied: urllib3<1.27,>=1.21.1 in /Users/Meera/miniconda3/lib/python3.10/site-packages (from requests<3,>=2->langchain) (1.26.14)\n",
      "Requirement already satisfied: certifi>=2017.4.17 in /Users/Meera/miniconda3/lib/python3.10/site-packages (from requests<3,>=2->langchain) (2022.12.7)\n",
      "Requirement already satisfied: idna<4,>=2.5 in /Users/Meera/miniconda3/lib/python3.10/site-packages (from requests<3,>=2->langchain) (3.4)\n",
      "Requirement already satisfied: greenlet!=0.4.17 in /Users/Meera/miniconda3/lib/python3.10/site-packages (from SQLAlchemy<3,>=1.4->langchain) (2.0.2)\n",
      "Requirement already satisfied: packaging>=17.0 in /Users/Meera/miniconda3/lib/python3.10/site-packages (from marshmallow<4.0.0,>=3.3.0->dataclasses-json<0.6.0,>=0.5.7->langchain) (23.0)\n",
      "Requirement already satisfied: mypy-extensions>=0.3.0 in /Users/Meera/miniconda3/lib/python3.10/site-packages (from typing-inspect>=0.4.0->dataclasses-json<0.6.0,>=0.5.7->langchain) (1.0.0)\n",
      "Requirement already satisfied: python-dotenv in /Users/Meera/miniconda3/lib/python3.10/site-packages (1.0.0)\n"
     ]
    }
   ],
   "source": [
    "!pip install langchain\n",
    "!pip install python-dotenv\n"
   ]
  },
  {
   "cell_type": "code",
   "execution_count": 7,
   "id": "c8190ee0",
   "metadata": {},
   "outputs": [
    {
     "name": "stdout",
     "output_type": "stream",
     "text": [
      "The dotenv extension is already loaded. To reload it, use:\n",
      "  %reload_ext dotenv\n"
     ]
    }
   ],
   "source": [
    "\n",
    "%load_ext dotenv\n",
    "%dotenv\n"
   ]
  },
  {
   "cell_type": "code",
   "execution_count": 1,
   "id": "b633b949",
   "metadata": {},
   "outputs": [],
   "source": []
  },
  {
   "cell_type": "code",
   "execution_count": 35,
   "id": "5b160937",
   "metadata": {},
   "outputs": [
    {
     "name": "stdout",
     "output_type": "stream",
     "text": [
      "env: OPENAI_KEY=''\n"
     ]
    }
   ],
   "source": [
    "%env OPENAI_KEY=''"
   ]
  },
  {
   "cell_type": "code",
   "execution_count": 3,
   "id": "f7546bf3",
   "metadata": {},
   "outputs": [],
   "source": [
    "import os\n",
    "from dotenv import load_dotenv\n",
    "from langchain import OpenAI\n",
    "from langchain import PromptTemplate\n",
    "from langchain.chains.summarize import load_summarize_chain\n",
    "from langchain.text_splitter import RecursiveCharacterTextSplitter\n"
   ]
  },
  {
   "cell_type": "code",
   "execution_count": null,
   "id": "71d2fac3",
   "metadata": {},
   "outputs": [],
   "source": [
    "import os \n",
    "open_api_key = os.environ[\"OPENAI_KEY\"]\n",
    "print(open_api_key)\n",
    "\n"
   ]
  },
  {
   "cell_type": "code",
   "execution_count": 5,
   "id": "8f6d433c",
   "metadata": {},
   "outputs": [],
   "source": [
    "llm = OpenAI( temperature=0, openai_api_key= '')"
   ]
  },
  {
   "cell_type": "code",
   "execution_count": 13,
   "id": "a977bc30",
   "metadata": {},
   "outputs": [
    {
     "name": "stdout",
     "output_type": "stream",
     "text": [
      "121\n"
     ]
    }
   ],
   "source": [
    "# Level 0 try\n",
    "prompt = \"\"\"\n",
    "Please provide a summary of the following text\n",
    "\n",
    "TEXT:\n",
    "Philosophy (from Greek: φιλοσοφία, philosophia, 'love of wisdom') \\\n",
    "is the systematized study of general and fundamental questions, \\\n",
    "such as those about existence, reason, knowledge, values, mind, and language. \\\n",
    "Some sources claim the term was coined by Pythagoras (c. 570 – c. 495 BCE), \\\n",
    "although this theory is disputed by some. Philosophical methods include questioning, \\\n",
    "critical discussion, rational argument, and systematic presentation.\n",
    "\"\"\"\n",
    "num_tokens = llm.get_num_tokens(prompt)\n",
    "print( num_tokens)"
   ]
  },
  {
   "cell_type": "code",
   "execution_count": 23,
   "id": "7a61afdb",
   "metadata": {},
   "outputs": [
    {
     "name": "stdout",
     "output_type": "stream",
     "text": [
      "\n",
      "Philosophy is a systematized study of general and fundamental questions about existence, reason, knowledge, values, mind, and language. It is believed to have been coined by Pythagoras, and its methods include questioning, critical discussion, rational argument, and systematic presentation.\n"
     ]
    }
   ],
   "source": [
    "output = llm(prompt)\n",
    "print(output)"
   ]
  },
  {
   "cell_type": "code",
   "execution_count": 7,
   "id": "d320b529",
   "metadata": {},
   "outputs": [
    {
     "name": "stdout",
     "output_type": "stream",
     "text": [
      "it's up dude you know what's going on man who do we got today Liz and Lucas Herman I'm excited about the Hermits\n",
      " you know what I'm excited about Luke and his wife Liz they're sort of a team running this this company together\n",
      " their app I think they make $8,000 a month that was back in January so ma\n"
     ]
    }
   ],
   "source": [
    "#This is Level 1 - Read large data\n",
    "with open('data/IndieHacker-283.txt', 'r') as file: \n",
    "    file_contents = file.read()\n",
    "    print(file_contents[:300])"
   ]
  },
  {
   "cell_type": "code",
   "execution_count": 8,
   "id": "9507c68f",
   "metadata": {},
   "outputs": [
    {
     "data": {
      "text/plain": [
       "11314"
      ]
     },
     "execution_count": 8,
     "metadata": {},
     "output_type": "execute_result"
    }
   ],
   "source": [
    "llm.get_num_tokens(file_contents)"
   ]
  },
  {
   "cell_type": "code",
   "execution_count": 10,
   "id": "92619607",
   "metadata": {},
   "outputs": [],
   "source": [
    "# 1 token = 4 characters\n",
    "# 1000 tokens = 4 *  1000 \n",
    "# https://platform.openai.com/docs/models/gpt-4\n",
    "text_splitter = RecursiveCharacterTextSplitter( separators=[\"\\n\\n\", \"\\n\", \" \"], chunk_size=4000, chunk_overlap=500)\n",
    "docs = text_splitter.create_documents( [ file_contents])"
   ]
  },
  {
   "cell_type": "code",
   "execution_count": 16,
   "id": "fd1d1c71",
   "metadata": {},
   "outputs": [
    {
     "name": "stdout",
     "output_type": "stream",
     "text": [
      " num docs 16\n",
      " num tokens  615\n"
     ]
    }
   ],
   "source": [
    "num_docs = len(docs)\n",
    "num_tokens_first_doc = llm.get_num_tokens(docs[0].page_content)\n",
    "print(\" num docs\" , num_docs)\n",
    "print(\" num tokens \", num_tokens_first_doc)\n"
   ]
  },
  {
   "cell_type": "code",
   "execution_count": 12,
   "id": "35a6a401",
   "metadata": {},
   "outputs": [
    {
     "name": "stdout",
     "output_type": "stream",
     "text": [
      " Lucas and his wife Liz have created a successful app called Stage Timer.io which makes them more money than their startup jobs. They have used Reddit and Twitter to market their product and have gained the attention of Sam Perry from My First Million. They have also discussed the importance of having prior experience working together before starting a business, and the idea of having a family business. They have been successful in their partnership and have been able to use the money they make to pursue other interests. They have also discussed the success of entrepreneurs such as Robert Murdoch, Khan, Edison, and DaVinci, and the importance of being curious and having no succession planning.\n"
     ]
    }
   ],
   "source": [
    "summary_chain = load_summarize_chain( llm=llm, chain_type='map_reduce')\n",
    "output = summary_chain.run(docs)\n",
    "print(output)"
   ]
  },
  {
   "cell_type": "code",
   "execution_count": 13,
   "id": "43a0ce9a",
   "metadata": {},
   "outputs": [],
   "source": [
    "map_prompt = \"\"\" \n",
    "Write a concise summary of following:\n",
    "\"{text}\"\n",
    "CONCISE SUMMARY:\n",
    "\"\"\"\n",
    "map_prompt_template = PromptTemplate( template=map_prompt, input_variables=[\"text\"])"
   ]
  },
  {
   "cell_type": "code",
   "execution_count": 14,
   "id": "a2bceaf1",
   "metadata": {},
   "outputs": [],
   "source": [
    "combine_prompt = \"\"\" \n",
    "\n",
    "Write a concise summary of text delimited by triple backquotes.\n",
    "Return your response in bullet points which covers the key points of the text\n",
    "```{text}```\n",
    "BULLET POINT SUMMARY: \n",
    "\"\"\"\n",
    "combine_prompt_template = PromptTemplate ( template= combine_prompt, input_variables=[\"text\"])"
   ]
  },
  {
   "cell_type": "code",
   "execution_count": 15,
   "id": "dc79cb9f",
   "metadata": {},
   "outputs": [],
   "source": [
    "summary_chain = load_summarize_chain( llm=llm , chain_type='map_reduce', map_prompt=map_prompt_template, combine_prompt=combine_prompt_template)"
   ]
  },
  {
   "cell_type": "code",
   "execution_count": 18,
   "id": "4cbfaa69",
   "metadata": {},
   "outputs": [],
   "source": [
    "output = summary_chain.run(docs)"
   ]
  },
  {
   "cell_type": "code",
   "execution_count": 19,
   "id": "10bb5b97",
   "metadata": {},
   "outputs": [
    {
     "name": "stdout",
     "output_type": "stream",
     "text": [
      "- Lucas and his wife Liz have created a successful app that makes them $8,000 a month and an AI journalist bot\n",
      "- They have an ambitious goal and have mapped out the steps they will take to reach it\n",
      "- They have created an app called Stage Timer.io which has been successful and is now charging $20-30 a month for its services\n",
      "- They have explored other industries and have built some tools\n",
      "- They have found success in solving other people's problems and have even received their first paying customer\n",
      "- They have grown their platform mainly through word of mouth and videos made by users\n",
      "- They have used SEO and technical blogs and documentation to bring in paying customers\n",
      "- They have a successful working relationship and have common interests\n",
      "- They are determined to become rich and are taking steps to do so\n",
      "- They have been experimenting with different business strategies and marketing strategies\n",
      "- They have been able to make a comfortable living with their business and have been able to pursue other interests\n",
      "- They have been inspired by the success of people like Robert Murdoch and Genghis Khan\n",
      "- They encourage listeners to find out more about their projects on Twitter and Instagram\n"
     ]
    }
   ],
   "source": [
    "print(output)"
   ]
  },
  {
   "cell_type": "code",
   "execution_count": null,
   "id": "d29f758e",
   "metadata": {},
   "outputs": [],
   "source": []
  }
 ],
 "metadata": {
  "kernelspec": {
   "display_name": "Python 3 (ipykernel)",
   "language": "python",
   "name": "python3"
  },
  "language_info": {
   "codemirror_mode": {
    "name": "ipython",
    "version": 3
   },
   "file_extension": ".py",
   "mimetype": "text/x-python",
   "name": "python",
   "nbconvert_exporter": "python",
   "pygments_lexer": "ipython3",
   "version": "3.10.10"
  }
 },
 "nbformat": 4,
 "nbformat_minor": 5
}
